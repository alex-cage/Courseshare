{
 "cells": [
  {
   "cell_type": "markdown",
   "id": "3d93c932-8420-4110-880f-3c50bb3ff49d",
   "metadata": {},
   "source": "# Unupervise Learning - Week4 Assignment - Part 2"
  },
  {
   "cell_type": "markdown",
   "id": "25ec669a-d223-4e85-a74c-6b582f86dceb",
   "metadata": {},
   "source": [
    "## Limitation(s) of sklearn’s non-negative matrix factorization library. "
   ]
  },
  {
   "cell_type": "markdown",
   "id": "e729a80b-8ee6-4bc5-8417-f68cf931df8f",
   "metadata": {},
   "source": [
    "### 0. Instruction:\n",
    "\n",
    "1. Load the movie ratings data (as in the HW3-recommender-system) and use matrix factorization technique(s) and predict the missing ratings from the test data. Measure the RMSE. You should use sklearn library. \n",
    "\n",
    "2. Discuss the results and why they did not work well compared to simple baseline or similarity-based methods we’ve done in Module 3. Can you suggest a way(s) to fix it?"
   ]
  },
  {
   "cell_type": "markdown",
   "id": "4582a86e-4b22-4130-b8ab-1cde3e18793d",
   "metadata": {},
   "source": [
    "### Question 1. NMF-based method"
   ]
  },
  {
   "cell_type": "markdown",
   "id": "9ba292cc-101c-422c-8141-769f671df849",
   "metadata": {},
   "source": [
    "The data is loacted in the same folder of the nootbook. Also, it is uploaded in the following repository:\n",
    "\n",
    "https://github.com/alex-cage/Courseshare/tree/1327aadfd1e75cb946896e55b55aa3c9f5b6b87c/SupervisedLearning/Week4"
   ]
  },
  {
   "cell_type": "code",
   "execution_count": 1,
   "id": "cd929aca-2648-429f-9cef-a1dbcf58bf3b",
   "metadata": {},
   "outputs": [
    {
     "name": "stdout",
     "output_type": "stream",
     "text": [
      "RMSE is: 2.85\n"
     ]
    }
   ],
   "source": [
    "########################################################################################\n",
    "# Import libraries\n",
    "import pandas as pd\n",
    "import numpy as np\n",
    "from sklearn.decomposition import NMF\n",
    "from sklearn.metrics import root_mean_squared_error\n",
    "from scipy.sparse import coo_matrix\n",
    "\n",
    "########################################################################################\n",
    "# load csvs\n",
    "train_df = pd.read_csv(\"train.csv\")      \n",
    "test_df = pd.read_csv(\"test.csv\")         \n",
    "users_df = pd.read_csv(\"users.csv\")      \n",
    "movies_df = pd.read_csv(\"movies.csv\")    \n",
    "\n",
    "########################################################################################\n",
    "# Map User and Movie IDs to Matrix Indices\n",
    "all_users = list(users_df['uID'])         \n",
    "all_movies = list(movies_df['mID'])      \n",
    "\n",
    "uid2idx = {uid: idx for idx, uid in enumerate(all_users)}  \n",
    "mid2idx = {mid: idx for idx, mid in enumerate(all_movies)} \n",
    "\n",
    "########################################################################################\n",
    "#  Build the Sparse Ratings Matrix for Training\n",
    "ind_user_train = [uid2idx[u] for u in train_df['uID']]    \n",
    "ind_movie_train = [mid2idx[m] for m in train_df['mID']]    \n",
    "rating_train = list(train_df['rating'])                   \n",
    "\n",
    "# Construct sparse user-movie rating matrix (users x movies)\n",
    "Mr_sparse = coo_matrix((rating_train, (ind_user_train, ind_movie_train)),\n",
    "                       shape=(len(all_users), len(all_movies)))\n",
    "\n",
    "########################################################################################\n",
    "#  Train the NMF Model\n",
    "nmf_model = NMF(n_components=20,          \n",
    "                random_state=42,\n",
    "                init='random',\n",
    "                max_iter=500)\n",
    "W = nmf_model.fit_transform(Mr_sparse)    \n",
    "H = nmf_model.components_                 \n",
    "\n",
    "########################################################################################\n",
    "# Pedict Ratings \n",
    "Mr_pred = np.dot(W, H)  \n",
    "\n",
    "########################################################################################\n",
    "# Prepare Test Set Indices and Extract Ground Truth\n",
    "ind_user_test = [uid2idx[u] for u in test_df['uID']]       # row indices for test\n",
    "ind_movie_test = [mid2idx[m] for m in test_df['mID']]      # column indices for test\n",
    "rating_test = list(test_df['rating'])                      # true ratings\n",
    "\n",
    "# Predict the rating for each test (user, movie) pair\n",
    "predicted_ratings = [Mr_pred[u_idx, m_idx] for u_idx, m_idx in zip(ind_user_test, ind_movie_test)]\n",
    "\n",
    "########################################################################################\n",
    "# Result\n",
    "rmse = root_mean_squared_error(rating_test, predicted_ratings)\n",
    "print(f\"RMSE is: {rmse:.2f}\")\n"
   ]
  },
  {
   "cell_type": "markdown",
   "id": "5dc80358-a2c8-40f7-b0ab-514ee638f0e4",
   "metadata": {},
   "source": [
    "### Question 2. Conclusion"
   ]
  },
  {
   "cell_type": "markdown",
   "id": "3ce9265f-2a99-4009-9904-43c7498080d8",
   "metadata": {},
   "source": [
    "* Discuss the results and why sklearn's non-negative matrix facorization library did not work well compared to simple baseline or similarity-based methods we’ve done in Module 3. Can you suggest a way(s) to fix it? <br>\n",
    "**Answer**:<br>\n",
    "1. The based line RMSE is 1.26 ($Y_p=3$), while the NMF method provides a RMSE of 2.85, suggesting the NMF method doesn't give a good fit.<br>\n",
    "2. The main drawbacks of the NMF method in this case are:<br>\n",
    "(1) The NMF method doesn't focus on the user or movie features, such as age, region, genres. Instead, it focuses on the matrix, which reduces the information utilized.<br>\n",
    "(2) The data is sparse, and the method puts more efforts to estimate the zeros, which could be overfitting.<br>\n",
    "4. Countering the two disadvantages, similarity-based models or the alternating least squares method (that can handle the sparcity) could improve the prediction."
   ]
  },
  {
   "cell_type": "code",
   "execution_count": null,
   "id": "da705443-45f4-4929-9e82-d7b477a30da5",
   "metadata": {},
   "outputs": [],
   "source": []
  }
 ],
 "metadata": {
  "kernelspec": {
   "display_name": "Python 3 (ipykernel)",
   "language": "python",
   "name": "python3"
  },
  "language_info": {
   "codemirror_mode": {
    "name": "ipython",
    "version": 3
   },
   "file_extension": ".py",
   "mimetype": "text/x-python",
   "name": "python",
   "nbconvert_exporter": "python",
   "pygments_lexer": "ipython3",
   "version": "3.12.3"
  }
 },
 "nbformat": 4,
 "nbformat_minor": 5
}
